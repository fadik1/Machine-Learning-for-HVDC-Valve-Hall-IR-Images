{
 "cells": [
  {
   "cell_type": "code",
   "execution_count": 2,
   "metadata": {
    "colab": {
     "base_uri": "https://localhost:8080/"
    },
    "executionInfo": {
     "elapsed": 17053,
     "status": "ok",
     "timestamp": 1613436973743,
     "user": {
      "displayName": "Fadi Katto",
      "photoUrl": "",
      "userId": "16435971992588700948"
     },
     "user_tz": 420
    },
    "id": "Teb58Aa2pyBT",
    "outputId": "f673a35d-b032-4283-9e57-4b186ffb2439"
   },
   "outputs": [
    {
     "name": "stdout",
     "output_type": "stream",
     "text": [
      "Mounted at /content/gdrive\n"
     ]
    }
   ],
   "source": [
    "from google.colab import drive\n",
    "drive.mount('/content/gdrive')    #mount personal google drive"
   ]
  },
  {
   "cell_type": "code",
   "execution_count": 4,
   "metadata": {
    "colab": {
     "base_uri": "https://localhost:8080/"
    },
    "executionInfo": {
     "elapsed": 361,
     "status": "ok",
     "timestamp": 1613437005049,
     "user": {
      "displayName": "Fadi Katto",
      "photoUrl": "",
      "userId": "16435971992588700948"
     },
     "user_tz": 420
    },
    "id": "zvboIkPoqeud",
    "outputId": "e5466daf-7f24-433a-8230-38360a02a013"
   },
   "outputs": [
    {
     "name": "stdout",
     "output_type": "stream",
     "text": [
      "gdrive\tsample_data\n"
     ]
    }
   ],
   "source": [
    "!ls   #check if mounted properly"
   ]
  },
  {
   "cell_type": "code",
   "execution_count": 5,
   "metadata": {
    "colab": {
     "base_uri": "https://localhost:8080/"
    },
    "executionInfo": {
     "elapsed": 506244,
     "status": "ok",
     "timestamp": 1613437627201,
     "user": {
      "displayName": "Fadi Katto",
      "photoUrl": "",
      "userId": "16435971992588700948"
     },
     "user_tz": 420
    },
    "id": "GUfkIKcsMlMz",
    "outputId": "711411bc-01ef-40b7-d978-90eb19ecec76"
   },
   "outputs": [
    {
     "name": "stdout",
     "output_type": "stream",
     "text": [
      "['cpu_gpu_stress', 'cpu_stress', 'gpu_stress', 'idle']\n"
     ]
    }
   ],
   "source": [
    "from PIL import Image\n",
    "import os.path, sys\n",
    "# crops images under a directory, under a directory\n",
    "path = 'D:\\\\Capstone Project materials\\\\pc_stress_4_classes_-10_85\\\\gpu_autoencoder'\n",
    "folders = os.listdir(path)     #puts the images in directory into a list\n",
    "print(folders)\n",
    "def crop():               \n",
    "    for folder in folders:\n",
    "        full_folder_path = os.path.join(path,folder)         #joins the main path with the image to form a full path\n",
    "        dirs = os.listdir(full_folder_path) \n",
    "        for item in dirs:\n",
    "            full_image_path = os.path.join(full_folder_path,item)\n",
    "            if os.path.isfile(full_image_path):                #check if its a file\n",
    "                im = Image.open(full_image_path)\n",
    "                w, h = im.size\n",
    "                left=6*w/15                           #specify the point of crop. Go from (0,0) to (left, upper). height is 6, width is 8. cpu dimensions\n",
    "                upper=7.5*h/11\n",
    "                right=10.5*w/15                           #specify the point of crop. Go from (image size,image size) to (right, lower). 7*w/8 \n",
    "                lower=11*h/11                    # 5*h/6\n",
    "                f, e = os.path.splitext(full_image_path)     #splits the file name and the extension into f and e\n",
    "                imCrop = im.crop((left, upper, right, lower)) #crop\n",
    "                imCrop.save(f + 'Cropped.jpg', quality=100)    #save cropped image with 'f' + 'Cropped.jpg' as a name. Quality is aparameter to specify size. extension type can be specified too.\n",
    "                os.remove(full_image_path)                           #remove original image\n",
    "\n",
    "crop()                                            #call the function\n"
   ]
  },
  {
   "cell_type": "code",
   "execution_count": null,
   "metadata": {},
   "outputs": [],
   "source": []
  }
 ],
 "metadata": {
  "colab": {
   "authorship_tag": "ABX9TyMl2J269EhnSu8zN5G7Fy2r",
   "name": "crop_2021_02_15_v2.ipynb",
   "provenance": []
  },
  "kernelspec": {
   "display_name": "Python 3",
   "language": "python",
   "name": "python3"
  },
  "language_info": {
   "codemirror_mode": {
    "name": "ipython",
    "version": 3
   },
   "file_extension": ".py",
   "mimetype": "text/x-python",
   "name": "python",
   "nbconvert_exporter": "python",
   "pygments_lexer": "ipython3",
   "version": "3.8.5"
  }
 },
 "nbformat": 4,
 "nbformat_minor": 1
}
